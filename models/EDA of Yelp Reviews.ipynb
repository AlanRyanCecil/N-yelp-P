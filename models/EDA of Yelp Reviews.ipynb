{
 "cells": [
  {
   "cell_type": "code",
   "execution_count": 1,
   "metadata": {},
   "outputs": [],
   "source": [
    "import numpy as np\n",
    "import pandas as pd"
   ]
  },
  {
   "cell_type": "code",
   "execution_count": 2,
   "metadata": {},
   "outputs": [],
   "source": [
    "yelp = pd.read_csv(\"N-yelp-P/cleaned_data/top_21_businesses.csv\", sep=\"\\t\")"
   ]
  },
  {
   "cell_type": "code",
   "execution_count": 3,
   "metadata": {},
   "outputs": [
    {
     "data": {
      "text/html": [
       "<div>\n",
       "<style scoped>\n",
       "    .dataframe tbody tr th:only-of-type {\n",
       "        vertical-align: middle;\n",
       "    }\n",
       "\n",
       "    .dataframe tbody tr th {\n",
       "        vertical-align: top;\n",
       "    }\n",
       "\n",
       "    .dataframe thead th {\n",
       "        text-align: right;\n",
       "    }\n",
       "</style>\n",
       "<table border=\"1\" class=\"dataframe\">\n",
       "  <thead>\n",
       "    <tr style=\"text-align: right;\">\n",
       "      <th></th>\n",
       "      <th>business_id</th>\n",
       "      <th>cool</th>\n",
       "      <th>date</th>\n",
       "      <th>funny</th>\n",
       "      <th>review_id</th>\n",
       "      <th>stars</th>\n",
       "      <th>text</th>\n",
       "      <th>useful</th>\n",
       "      <th>user_id</th>\n",
       "      <th>name</th>\n",
       "      <th>price</th>\n",
       "      <th>rating</th>\n",
       "      <th>review_count</th>\n",
       "      <th>vader</th>\n",
       "    </tr>\n",
       "  </thead>\n",
       "  <tbody>\n",
       "    <tr>\n",
       "      <th>0</th>\n",
       "      <td>iCQpiavjjPzJ5_3gPD5Ebg</td>\n",
       "      <td>0</td>\n",
       "      <td>2011-02-25</td>\n",
       "      <td>0.0</td>\n",
       "      <td>x7mDIiDB3jEiPGPHOmDzyw</td>\n",
       "      <td>2.0</td>\n",
       "      <td>The pizza was okay. Not the best I've had. I p...</td>\n",
       "      <td>0.0</td>\n",
       "      <td>msQe1u7Z_XuqjGoqhB0J5g</td>\n",
       "      <td>Secret Pizza</td>\n",
       "      <td>$</td>\n",
       "      <td>4.0</td>\n",
       "      <td>4078</td>\n",
       "      <td>0.7038</td>\n",
       "    </tr>\n",
       "    <tr>\n",
       "      <th>1</th>\n",
       "      <td>iCQpiavjjPzJ5_3gPD5Ebg</td>\n",
       "      <td>0</td>\n",
       "      <td>2011-10-25</td>\n",
       "      <td>0.0</td>\n",
       "      <td>VluIpojME0yKOcRKI5L0Iw</td>\n",
       "      <td>3.0</td>\n",
       "      <td>came here on Monday, no line. its good, but no...</td>\n",
       "      <td>0.0</td>\n",
       "      <td>D1_nrBr4dOrs7M82OaBRwQ</td>\n",
       "      <td>Secret Pizza</td>\n",
       "      <td>$</td>\n",
       "      <td>4.0</td>\n",
       "      <td>4078</td>\n",
       "      <td>0.7506</td>\n",
       "    </tr>\n",
       "    <tr>\n",
       "      <th>2</th>\n",
       "      <td>iCQpiavjjPzJ5_3gPD5Ebg</td>\n",
       "      <td>0</td>\n",
       "      <td>2016-05-22</td>\n",
       "      <td>0.0</td>\n",
       "      <td>nsB9JAeghk0zOaSulSm9Yw</td>\n",
       "      <td>5.0</td>\n",
       "      <td>This place is truly a secret!  Its so hidden t...</td>\n",
       "      <td>0.0</td>\n",
       "      <td>jEjc8HxeCeI22M4di0Y1aw</td>\n",
       "      <td>Secret Pizza</td>\n",
       "      <td>$</td>\n",
       "      <td>4.0</td>\n",
       "      <td>4078</td>\n",
       "      <td>0.9564</td>\n",
       "    </tr>\n",
       "    <tr>\n",
       "      <th>3</th>\n",
       "      <td>iCQpiavjjPzJ5_3gPD5Ebg</td>\n",
       "      <td>0</td>\n",
       "      <td>2014-12-30</td>\n",
       "      <td>0.0</td>\n",
       "      <td>pcn01EMERpCpHEcoaohdEg</td>\n",
       "      <td>5.0</td>\n",
       "      <td>This SECRET  PIZZA was a secret for about 5 st...</td>\n",
       "      <td>0.0</td>\n",
       "      <td>RTiaaHSN80VRTLSdNK5rfQ</td>\n",
       "      <td>Secret Pizza</td>\n",
       "      <td>$</td>\n",
       "      <td>4.0</td>\n",
       "      <td>4078</td>\n",
       "      <td>0.9169</td>\n",
       "    </tr>\n",
       "    <tr>\n",
       "      <th>4</th>\n",
       "      <td>iCQpiavjjPzJ5_3gPD5Ebg</td>\n",
       "      <td>0</td>\n",
       "      <td>2013-03-24</td>\n",
       "      <td>0.0</td>\n",
       "      <td>0mFtAPTmInbXHqDjX9eiOg</td>\n",
       "      <td>5.0</td>\n",
       "      <td>this is the BEST place to grab a quick slice o...</td>\n",
       "      <td>0.0</td>\n",
       "      <td>hBmJs49zYcXdV4wo8F5iiA</td>\n",
       "      <td>Secret Pizza</td>\n",
       "      <td>$</td>\n",
       "      <td>4.0</td>\n",
       "      <td>4078</td>\n",
       "      <td>0.9090</td>\n",
       "    </tr>\n",
       "  </tbody>\n",
       "</table>\n",
       "</div>"
      ],
      "text/plain": [
       "              business_id  cool        date  funny               review_id  \\\n",
       "0  iCQpiavjjPzJ5_3gPD5Ebg     0  2011-02-25    0.0  x7mDIiDB3jEiPGPHOmDzyw   \n",
       "1  iCQpiavjjPzJ5_3gPD5Ebg     0  2011-10-25    0.0  VluIpojME0yKOcRKI5L0Iw   \n",
       "2  iCQpiavjjPzJ5_3gPD5Ebg     0  2016-05-22    0.0  nsB9JAeghk0zOaSulSm9Yw   \n",
       "3  iCQpiavjjPzJ5_3gPD5Ebg     0  2014-12-30    0.0  pcn01EMERpCpHEcoaohdEg   \n",
       "4  iCQpiavjjPzJ5_3gPD5Ebg     0  2013-03-24    0.0  0mFtAPTmInbXHqDjX9eiOg   \n",
       "\n",
       "   stars                                               text  useful  \\\n",
       "0    2.0  The pizza was okay. Not the best I've had. I p...     0.0   \n",
       "1    3.0  came here on Monday, no line. its good, but no...     0.0   \n",
       "2    5.0  This place is truly a secret!  Its so hidden t...     0.0   \n",
       "3    5.0  This SECRET  PIZZA was a secret for about 5 st...     0.0   \n",
       "4    5.0  this is the BEST place to grab a quick slice o...     0.0   \n",
       "\n",
       "                  user_id          name price  rating  review_count   vader  \n",
       "0  msQe1u7Z_XuqjGoqhB0J5g  Secret Pizza     $     4.0          4078  0.7038  \n",
       "1  D1_nrBr4dOrs7M82OaBRwQ  Secret Pizza     $     4.0          4078  0.7506  \n",
       "2  jEjc8HxeCeI22M4di0Y1aw  Secret Pizza     $     4.0          4078  0.9564  \n",
       "3  RTiaaHSN80VRTLSdNK5rfQ  Secret Pizza     $     4.0          4078  0.9169  \n",
       "4  hBmJs49zYcXdV4wo8F5iiA  Secret Pizza     $     4.0          4078  0.9090  "
      ]
     },
     "execution_count": 3,
     "metadata": {},
     "output_type": "execute_result"
    }
   ],
   "source": [
    "yelp.head()"
   ]
  },
  {
   "cell_type": "code",
   "execution_count": 4,
   "metadata": {},
   "outputs": [
    {
     "name": "stdout",
     "output_type": "stream",
     "text": [
      "<class 'pandas.core.frame.DataFrame'>\n",
      "RangeIndex: 91459 entries, 0 to 91458\n",
      "Data columns (total 14 columns):\n",
      "business_id     91459 non-null object\n",
      "cool            91459 non-null int64\n",
      "date            91459 non-null object\n",
      "funny           91459 non-null float64\n",
      "review_id       91459 non-null object\n",
      "stars           91459 non-null float64\n",
      "text            91459 non-null object\n",
      "useful          91459 non-null float64\n",
      "user_id         91459 non-null object\n",
      "name            91459 non-null object\n",
      "price           91459 non-null object\n",
      "rating          91459 non-null float64\n",
      "review_count    91459 non-null int64\n",
      "vader           91459 non-null float64\n",
      "dtypes: float64(5), int64(2), object(7)\n",
      "memory usage: 9.8+ MB\n"
     ]
    }
   ],
   "source": [
    "yelp.info()"
   ]
  },
  {
   "cell_type": "code",
   "execution_count": 5,
   "metadata": {},
   "outputs": [
    {
     "data": {
      "text/html": [
       "<div>\n",
       "<style scoped>\n",
       "    .dataframe tbody tr th:only-of-type {\n",
       "        vertical-align: middle;\n",
       "    }\n",
       "\n",
       "    .dataframe tbody tr th {\n",
       "        vertical-align: top;\n",
       "    }\n",
       "\n",
       "    .dataframe thead th {\n",
       "        text-align: right;\n",
       "    }\n",
       "</style>\n",
       "<table border=\"1\" class=\"dataframe\">\n",
       "  <thead>\n",
       "    <tr style=\"text-align: right;\">\n",
       "      <th></th>\n",
       "      <th>cool</th>\n",
       "      <th>funny</th>\n",
       "      <th>stars</th>\n",
       "      <th>useful</th>\n",
       "      <th>rating</th>\n",
       "      <th>review_count</th>\n",
       "      <th>vader</th>\n",
       "    </tr>\n",
       "  </thead>\n",
       "  <tbody>\n",
       "    <tr>\n",
       "      <th>count</th>\n",
       "      <td>91459.000000</td>\n",
       "      <td>91459.000000</td>\n",
       "      <td>91459.000000</td>\n",
       "      <td>91459.000000</td>\n",
       "      <td>91459.000000</td>\n",
       "      <td>91459.000000</td>\n",
       "      <td>91459.000000</td>\n",
       "    </tr>\n",
       "    <tr>\n",
       "      <th>mean</th>\n",
       "      <td>0.705639</td>\n",
       "      <td>0.628478</td>\n",
       "      <td>3.787172</td>\n",
       "      <td>1.198799</td>\n",
       "      <td>3.797450</td>\n",
       "      <td>4977.622224</td>\n",
       "      <td>0.697485</td>\n",
       "    </tr>\n",
       "    <tr>\n",
       "      <th>std</th>\n",
       "      <td>3.068840</td>\n",
       "      <td>2.766487</td>\n",
       "      <td>1.277416</td>\n",
       "      <td>3.629528</td>\n",
       "      <td>0.462013</td>\n",
       "      <td>1575.982242</td>\n",
       "      <td>0.512152</td>\n",
       "    </tr>\n",
       "    <tr>\n",
       "      <th>min</th>\n",
       "      <td>0.000000</td>\n",
       "      <td>0.000000</td>\n",
       "      <td>1.000000</td>\n",
       "      <td>0.000000</td>\n",
       "      <td>2.500000</td>\n",
       "      <td>3245.000000</td>\n",
       "      <td>-0.998000</td>\n",
       "    </tr>\n",
       "    <tr>\n",
       "      <th>25%</th>\n",
       "      <td>0.000000</td>\n",
       "      <td>0.000000</td>\n",
       "      <td>3.000000</td>\n",
       "      <td>0.000000</td>\n",
       "      <td>3.500000</td>\n",
       "      <td>3891.000000</td>\n",
       "      <td>0.734950</td>\n",
       "    </tr>\n",
       "    <tr>\n",
       "      <th>50%</th>\n",
       "      <td>0.000000</td>\n",
       "      <td>0.000000</td>\n",
       "      <td>4.000000</td>\n",
       "      <td>0.000000</td>\n",
       "      <td>4.000000</td>\n",
       "      <td>4097.000000</td>\n",
       "      <td>0.929900</td>\n",
       "    </tr>\n",
       "    <tr>\n",
       "      <th>75%</th>\n",
       "      <td>1.000000</td>\n",
       "      <td>0.000000</td>\n",
       "      <td>5.000000</td>\n",
       "      <td>1.000000</td>\n",
       "      <td>4.000000</td>\n",
       "      <td>5472.000000</td>\n",
       "      <td>0.977800</td>\n",
       "    </tr>\n",
       "    <tr>\n",
       "      <th>max</th>\n",
       "      <td>227.000000</td>\n",
       "      <td>202.000000</td>\n",
       "      <td>5.000000</td>\n",
       "      <td>236.000000</td>\n",
       "      <td>4.500000</td>\n",
       "      <td>7968.000000</td>\n",
       "      <td>0.999900</td>\n",
       "    </tr>\n",
       "  </tbody>\n",
       "</table>\n",
       "</div>"
      ],
      "text/plain": [
       "               cool         funny         stars        useful        rating  \\\n",
       "count  91459.000000  91459.000000  91459.000000  91459.000000  91459.000000   \n",
       "mean       0.705639      0.628478      3.787172      1.198799      3.797450   \n",
       "std        3.068840      2.766487      1.277416      3.629528      0.462013   \n",
       "min        0.000000      0.000000      1.000000      0.000000      2.500000   \n",
       "25%        0.000000      0.000000      3.000000      0.000000      3.500000   \n",
       "50%        0.000000      0.000000      4.000000      0.000000      4.000000   \n",
       "75%        1.000000      0.000000      5.000000      1.000000      4.000000   \n",
       "max      227.000000    202.000000      5.000000    236.000000      4.500000   \n",
       "\n",
       "       review_count         vader  \n",
       "count  91459.000000  91459.000000  \n",
       "mean    4977.622224      0.697485  \n",
       "std     1575.982242      0.512152  \n",
       "min     3245.000000     -0.998000  \n",
       "25%     3891.000000      0.734950  \n",
       "50%     4097.000000      0.929900  \n",
       "75%     5472.000000      0.977800  \n",
       "max     7968.000000      0.999900  "
      ]
     },
     "execution_count": 5,
     "metadata": {},
     "output_type": "execute_result"
    }
   ],
   "source": [
    "yelp.describe()"
   ]
  },
  {
   "cell_type": "code",
   "execution_count": 6,
   "metadata": {},
   "outputs": [],
   "source": [
    "yelp['text length'] = yelp['text'].apply(len)"
   ]
  },
  {
   "cell_type": "code",
   "execution_count": 7,
   "metadata": {},
   "outputs": [],
   "source": [
    "import matplotlib.pyplot as plt\n",
    "import seaborn as sns\n",
    "sns.set_style('white')\n",
    "%matplotlib inline"
   ]
  },
  {
   "cell_type": "code",
   "execution_count": 8,
   "metadata": {},
   "outputs": [
    {
     "data": {
      "text/plain": [
       "<seaborn.axisgrid.FacetGrid at 0x1a141ea668>"
      ]
     },
     "execution_count": 8,
     "metadata": {},
     "output_type": "execute_result"
    },
    {
     "data": {
      "image/png": "[encoded data removed]",
      "text/plain": [
       "<Figure size 1080x216 with 5 Axes>"
      ]
     },
     "metadata": {},
     "output_type": "display_data"
    }
   ],
   "source": [
    "g = sns.FacetGrid(yelp,col='stars')\n",
    "g.map(plt.hist,'text length')"
   ]
  },
  {
   "cell_type": "code",
   "execution_count": 9,
   "metadata": {},
   "outputs": [
    {
     "data": {
      "text/plain": [
       "<matplotlib.axes._subplots.AxesSubplot at 0x1a16928630>"
      ]
     },
     "execution_count": 9,
     "metadata": {},
     "output_type": "execute_result"
    },
    {
     "data": {
      "image/png": "[encoded data removed]",
      "text/plain": [
       "<Figure size 432x288 with 1 Axes>"
      ]
     },
     "metadata": {},
     "output_type": "display_data"
    }
   ],
   "source": [
    "sns.boxplot(x='stars',y='text length',data=yelp,palette='rainbow')"
   ]
  },
  {
   "cell_type": "code",
   "execution_count": 10,
   "metadata": {},
   "outputs": [
    {
     "data": {
      "text/plain": [
       "<matplotlib.axes._subplots.AxesSubplot at 0x1a169a9f60>"
      ]
     },
     "execution_count": 10,
     "metadata": {},
     "output_type": "execute_result"
    },
    {
     "data": {
      "image/png": "[encoded data removed]",
      "text/plain": [
       "<Figure size 432x288 with 1 Axes>"
      ]
     },
     "metadata": {},
     "output_type": "display_data"
    }
   ],
   "source": [
    "sns.countplot(x='stars',data=yelp,palette='rainbow')"
   ]
  },
  {
   "cell_type": "code",
   "execution_count": 11,
   "metadata": {},
   "outputs": [
    {
     "data": {
      "text/html": [
       "<div>\n",
       "<style scoped>\n",
       "    .dataframe tbody tr th:only-of-type {\n",
       "        vertical-align: middle;\n",
       "    }\n",
       "\n",
       "    .dataframe tbody tr th {\n",
       "        vertical-align: top;\n",
       "    }\n",
       "\n",
       "    .dataframe thead th {\n",
       "        text-align: right;\n",
       "    }\n",
       "</style>\n",
       "<table border=\"1\" class=\"dataframe\">\n",
       "  <thead>\n",
       "    <tr style=\"text-align: right;\">\n",
       "      <th></th>\n",
       "      <th>cool</th>\n",
       "      <th>funny</th>\n",
       "      <th>useful</th>\n",
       "      <th>rating</th>\n",
       "      <th>review_count</th>\n",
       "      <th>vader</th>\n",
       "      <th>text length</th>\n",
       "    </tr>\n",
       "    <tr>\n",
       "      <th>stars</th>\n",
       "      <th></th>\n",
       "      <th></th>\n",
       "      <th></th>\n",
       "      <th></th>\n",
       "      <th></th>\n",
       "      <th></th>\n",
       "      <th></th>\n",
       "    </tr>\n",
       "  </thead>\n",
       "  <tbody>\n",
       "    <tr>\n",
       "      <th>1.0</th>\n",
       "      <td>0.320322</td>\n",
       "      <td>0.721733</td>\n",
       "      <td>1.467011</td>\n",
       "      <td>3.518572</td>\n",
       "      <td>4663.998993</td>\n",
       "      <td>-0.104028</td>\n",
       "      <td>862.358474</td>\n",
       "    </tr>\n",
       "    <tr>\n",
       "      <th>2.0</th>\n",
       "      <td>0.487405</td>\n",
       "      <td>0.693383</td>\n",
       "      <td>1.295770</td>\n",
       "      <td>3.580812</td>\n",
       "      <td>4836.389418</td>\n",
       "      <td>0.328563</td>\n",
       "      <td>883.580210</td>\n",
       "    </tr>\n",
       "    <tr>\n",
       "      <th>3.0</th>\n",
       "      <td>0.731503</td>\n",
       "      <td>0.687919</td>\n",
       "      <td>1.286723</td>\n",
       "      <td>3.663713</td>\n",
       "      <td>4959.660975</td>\n",
       "      <td>0.642719</td>\n",
       "      <td>824.222534</td>\n",
       "    </tr>\n",
       "    <tr>\n",
       "      <th>4.0</th>\n",
       "      <td>0.872996</td>\n",
       "      <td>0.683168</td>\n",
       "      <td>1.268875</td>\n",
       "      <td>3.815096</td>\n",
       "      <td>5059.957892</td>\n",
       "      <td>0.844732</td>\n",
       "      <td>740.620383</td>\n",
       "    </tr>\n",
       "    <tr>\n",
       "      <th>5.0</th>\n",
       "      <td>0.707831</td>\n",
       "      <td>0.526467</td>\n",
       "      <td>1.026209</td>\n",
       "      <td>3.952492</td>\n",
       "      <td>5027.277242</td>\n",
       "      <td>0.877881</td>\n",
       "      <td>604.143357</td>\n",
       "    </tr>\n",
       "  </tbody>\n",
       "</table>\n",
       "</div>"
      ],
      "text/plain": [
       "           cool     funny    useful    rating  review_count     vader  \\\n",
       "stars                                                                   \n",
       "1.0    0.320322  0.721733  1.467011  3.518572   4663.998993 -0.104028   \n",
       "2.0    0.487405  0.693383  1.295770  3.580812   4836.389418  0.328563   \n",
       "3.0    0.731503  0.687919  1.286723  3.663713   4959.660975  0.642719   \n",
       "4.0    0.872996  0.683168  1.268875  3.815096   5059.957892  0.844732   \n",
       "5.0    0.707831  0.526467  1.026209  3.952492   5027.277242  0.877881   \n",
       "\n",
       "       text length  \n",
       "stars               \n",
       "1.0     862.358474  \n",
       "2.0     883.580210  \n",
       "3.0     824.222534  \n",
       "4.0     740.620383  \n",
       "5.0     604.143357  "
      ]
     },
     "execution_count": 11,
     "metadata": {},
     "output_type": "execute_result"
    }
   ],
   "source": [
    "stars = yelp.groupby('stars').mean()\n",
    "stars"
   ]
  },
  {
   "cell_type": "code",
   "execution_count": 12,
   "metadata": {},
   "outputs": [
    {
     "data": {
      "text/html": [
       "<div>\n",
       "<style scoped>\n",
       "    .dataframe tbody tr th:only-of-type {\n",
       "        vertical-align: middle;\n",
       "    }\n",
       "\n",
       "    .dataframe tbody tr th {\n",
       "        vertical-align: top;\n",
       "    }\n",
       "\n",
       "    .dataframe thead th {\n",
       "        text-align: right;\n",
       "    }\n",
       "</style>\n",
       "<table border=\"1\" class=\"dataframe\">\n",
       "  <thead>\n",
       "    <tr style=\"text-align: right;\">\n",
       "      <th></th>\n",
       "      <th>cool</th>\n",
       "      <th>funny</th>\n",
       "      <th>useful</th>\n",
       "      <th>rating</th>\n",
       "      <th>review_count</th>\n",
       "      <th>vader</th>\n",
       "      <th>text length</th>\n",
       "    </tr>\n",
       "  </thead>\n",
       "  <tbody>\n",
       "    <tr>\n",
       "      <th>cool</th>\n",
       "      <td>1.000000</td>\n",
       "      <td>-0.379266</td>\n",
       "      <td>-0.596980</td>\n",
       "      <td>0.757475</td>\n",
       "      <td>0.969795</td>\n",
       "      <td>0.945208</td>\n",
       "      <td>-0.591401</td>\n",
       "    </tr>\n",
       "    <tr>\n",
       "      <th>funny</th>\n",
       "      <td>-0.379266</td>\n",
       "      <td>1.000000</td>\n",
       "      <td>0.942653</td>\n",
       "      <td>-0.862337</td>\n",
       "      <td>-0.566960</td>\n",
       "      <td>-0.641746</td>\n",
       "      <td>0.914690</td>\n",
       "    </tr>\n",
       "    <tr>\n",
       "      <th>useful</th>\n",
       "      <td>-0.596980</td>\n",
       "      <td>0.942653</td>\n",
       "      <td>1.000000</td>\n",
       "      <td>-0.906819</td>\n",
       "      <td>-0.768513</td>\n",
       "      <td>-0.825142</td>\n",
       "      <td>0.872045</td>\n",
       "    </tr>\n",
       "    <tr>\n",
       "      <th>rating</th>\n",
       "      <td>0.757475</td>\n",
       "      <td>-0.862337</td>\n",
       "      <td>-0.906819</td>\n",
       "      <td>1.000000</td>\n",
       "      <td>0.860312</td>\n",
       "      <td>0.892310</td>\n",
       "      <td>-0.966437</td>\n",
       "    </tr>\n",
       "    <tr>\n",
       "      <th>review_count</th>\n",
       "      <td>0.969795</td>\n",
       "      <td>-0.566960</td>\n",
       "      <td>-0.768513</td>\n",
       "      <td>0.860312</td>\n",
       "      <td>1.000000</td>\n",
       "      <td>0.994974</td>\n",
       "      <td>-0.708470</td>\n",
       "    </tr>\n",
       "    <tr>\n",
       "      <th>vader</th>\n",
       "      <td>0.945208</td>\n",
       "      <td>-0.641746</td>\n",
       "      <td>-0.825142</td>\n",
       "      <td>0.892310</td>\n",
       "      <td>0.994974</td>\n",
       "      <td>1.000000</td>\n",
       "      <td>-0.756157</td>\n",
       "    </tr>\n",
       "    <tr>\n",
       "      <th>text length</th>\n",
       "      <td>-0.591401</td>\n",
       "      <td>0.914690</td>\n",
       "      <td>0.872045</td>\n",
       "      <td>-0.966437</td>\n",
       "      <td>-0.708470</td>\n",
       "      <td>-0.756157</td>\n",
       "      <td>1.000000</td>\n",
       "    </tr>\n",
       "  </tbody>\n",
       "</table>\n",
       "</div>"
      ],
      "text/plain": [
       "                  cool     funny    useful    rating  review_count     vader  \\\n",
       "cool          1.000000 -0.379266 -0.596980  0.757475      0.969795  0.945208   \n",
       "funny        -0.379266  1.000000  0.942653 -0.862337     -0.566960 -0.641746   \n",
       "useful       -0.596980  0.942653  1.000000 -0.906819     -0.768513 -0.825142   \n",
       "rating        0.757475 -0.862337 -0.906819  1.000000      0.860312  0.892310   \n",
       "review_count  0.969795 -0.566960 -0.768513  0.860312      1.000000  0.994974   \n",
       "vader         0.945208 -0.641746 -0.825142  0.892310      0.994974  1.000000   \n",
       "text length  -0.591401  0.914690  0.872045 -0.966437     -0.708470 -0.756157   \n",
       "\n",
       "              text length  \n",
       "cool            -0.591401  \n",
       "funny            0.914690  \n",
       "useful           0.872045  \n",
       "rating          -0.966437  \n",
       "review_count    -0.708470  \n",
       "vader           -0.756157  \n",
       "text length      1.000000  "
      ]
     },
     "execution_count": 12,
     "metadata": {},
     "output_type": "execute_result"
    }
   ],
   "source": [
    "stars.corr()"
   ]
  },
  {
   "cell_type": "code",
   "execution_count": 13,
   "metadata": {},
   "outputs": [
    {
     "data": {
      "text/plain": [
       "<matplotlib.axes._subplots.AxesSubplot at 0x10e3ffa58>"
      ]
     },
     "execution_count": 13,
     "metadata": {},
     "output_type": "execute_result"
    },
    {
     "data": {
      "image/png": "[encoded data removed]",
      "text/plain": [
       "<Figure size 432x288 with 2 Axes>"
      ]
     },
     "metadata": {},
     "output_type": "display_data"
    }
   ],
   "source": [
    "sns.heatmap(stars.corr(),cmap='coolwarm',annot=True)"
   ]
  },
  {
   "cell_type": "code",
   "execution_count": 14,
   "metadata": {},
   "outputs": [],
   "source": [
    "yelp_class = yelp[(yelp.stars==1) | (yelp.stars==5)]"
   ]
  },
  {
   "cell_type": "code",
   "execution_count": 15,
   "metadata": {},
   "outputs": [],
   "source": [
    "X = yelp_class['text']\n",
    "y = yelp_class['stars']"
   ]
  },
  {
   "cell_type": "code",
   "execution_count": 16,
   "metadata": {},
   "outputs": [],
   "source": [
    "from sklearn.feature_extraction.text import CountVectorizer\n",
    "cv = CountVectorizer()"
   ]
  },
  {
   "cell_type": "code",
   "execution_count": 17,
   "metadata": {},
   "outputs": [],
   "source": [
    "X = cv.fit_transform(X)"
   ]
  },
  {
   "cell_type": "code",
   "execution_count": 18,
   "metadata": {},
   "outputs": [],
   "source": [
    "from sklearn.model_selection import train_test_split"
   ]
  },
  {
   "cell_type": "code",
   "execution_count": 19,
   "metadata": {},
   "outputs": [],
   "source": [
    "X_train, X_test, y_train, y_test = train_test_split(X, y,test_size=0.3,random_state=101)"
   ]
  },
  {
   "cell_type": "code",
   "execution_count": 20,
   "metadata": {},
   "outputs": [],
   "source": [
    "from sklearn.naive_bayes import MultinomialNB\n",
    "nb = MultinomialNB()"
   ]
  },
  {
   "cell_type": "code",
   "execution_count": 21,
   "metadata": {},
   "outputs": [
    {
     "data": {
      "text/plain": [
       "MultinomialNB(alpha=1.0, class_prior=None, fit_prior=True)"
      ]
     },
     "execution_count": 21,
     "metadata": {},
     "output_type": "execute_result"
    }
   ],
   "source": [
    "nb.fit(X_train,y_train)"
   ]
  },
  {
   "cell_type": "code",
   "execution_count": 22,
   "metadata": {},
   "outputs": [],
   "source": [
    "predictions = nb.predict(X_test)"
   ]
  },
  {
   "cell_type": "code",
   "execution_count": 23,
   "metadata": {},
   "outputs": [],
   "source": [
    "from sklearn.metrics import confusion_matrix,classification_report"
   ]
  },
  {
   "cell_type": "code",
   "execution_count": 24,
   "metadata": {},
   "outputs": [
    {
     "name": "stdout",
     "output_type": "stream",
     "text": [
      "[[ 1965   376]\n",
      " [  338 10155]]\n",
      "\n",
      "\n",
      "             precision    recall  f1-score   support\n",
      "\n",
      "        1.0       0.85      0.84      0.85      2341\n",
      "        5.0       0.96      0.97      0.97     10493\n",
      "\n",
      "avg / total       0.94      0.94      0.94     12834\n",
      "\n"
     ]
    }
   ],
   "source": [
    "print(confusion_matrix(y_test,predictions))\n",
    "print('\\n')\n",
    "print(classification_report(y_test,predictions))"
   ]
  },
  {
   "cell_type": "markdown",
   "metadata": {},
   "source": [
    "### Overall Analysis"
   ]
  },
  {
   "cell_type": "markdown",
   "metadata": {},
   "source": [
    "Based on the reviews, customers wrote more in length for a 1 rating than a 5 rating, which shows that most people have more to say with a complaint than giving a compliment. However more people generally give 4 to 5 rating to the place of business. Customers are more engaged with reading longer comments and mark them useful or funny. Overall based on the 1 and 5 star yelp ratings, the text content given has a high perdiction in the star rating . This model has an accuracy of 94 %."
   ]
  }
 ],
 "metadata": {
  "kernelspec": {
   "display_name": "Python [conda env:PythonData]",
   "language": "python",
   "name": "conda-env-PythonData-py"
  },
  "language_info": {
   "codemirror_mode": {
    "name": "ipython",
    "version": 3
   },
   "file_extension": ".py",
   "mimetype": "text/x-python",
   "name": "python",
   "nbconvert_exporter": "python",
   "pygments_lexer": "ipython3",
   "version": "3.6.5"
  }
 },
 "nbformat": 4,
 "nbformat_minor": 2
}
