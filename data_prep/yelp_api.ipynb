{
 "cells": [
  {
   "cell_type": "code",
   "execution_count": 1,
   "metadata": {},
   "outputs": [],
   "source": [
    "import requests\n",
    "import json\n",
    "from yelp_config import api_key"
   ]
  },
  {
   "cell_type": "code",
   "execution_count": 2,
   "metadata": {},
   "outputs": [],
   "source": [
    "dirt = lambda obj: [x for x in dir(obj) if x[0] != '_']"
   ]
  },
  {
   "cell_type": "code",
   "execution_count": 3,
   "metadata": {},
   "outputs": [],
   "source": [
    "def flat(data, tabs=0):\n",
    "    for k, v in data.items():\n",
    "        if isinstance(v, dict):\n",
    "            print(' ' * tabs, k)\n",
    "            flat(v, tabs=tabs+3)\n",
    "        else:\n",
    "            print(' ' * tabs, k)"
   ]
  },
  {
   "cell_type": "code",
   "execution_count": 39,
   "metadata": {},
   "outputs": [],
   "source": [
    "headers = {'Authorization': f'bearer {api_key}'}\n",
    "city = 'San Diego'\n",
    "search_term = 'bar'"
   ]
  },
  {
   "cell_type": "code",
   "execution_count": 8,
   "metadata": {},
   "outputs": [],
   "source": [
    "search_url = f'https://api.yelp.com/v3/businesses/search?location={city}&term={search_term}'"
   ]
  },
  {
   "cell_type": "code",
   "execution_count": 9,
   "metadata": {},
   "outputs": [],
   "source": [
    "business_id = 'WavvLdfdP6g8aZTtbBQHTw'\n",
    "url = f'https://api.yelp.com/v3/businesses/{business_id}'"
   ]
  },
  {
   "cell_type": "code",
   "execution_count": 10,
   "metadata": {},
   "outputs": [],
   "source": [
    "yelp_search_res = requests.get(search_url, headers=headers)"
   ]
  },
  {
   "cell_type": "code",
   "execution_count": 11,
   "metadata": {},
   "outputs": [
    {
     "name": "stdout",
     "output_type": "stream",
     "text": [
      " businesses\n",
      " total\n",
      " region\n",
      "    center\n",
      "       longitude\n",
      "       latitude\n"
     ]
    }
   ],
   "source": [
    "data = yelp_search_res.json()\n",
    "flat(data)"
   ]
  },
  {
   "cell_type": "code",
   "execution_count": 13,
   "metadata": {
    "scrolled": false
   },
   "outputs": [
    {
     "name": "stdout",
     "output_type": "stream",
     "text": [
      " id\n",
      " alias\n",
      " name\n",
      " image_url\n",
      " is_closed\n",
      " url\n",
      " review_count\n",
      " categories\n",
      " rating\n",
      " coordinates\n",
      "    latitude\n",
      "    longitude\n",
      " transactions\n",
      " location\n",
      "    address1\n",
      "    address2\n",
      "    address3\n",
      "    city\n",
      "    zip_code\n",
      "    country\n",
      "    state\n",
      "    display_address\n",
      " phone\n",
      " display_phone\n",
      " distance\n"
     ]
    }
   ],
   "source": [
    "flat(data['businesses'][0])"
   ]
  },
  {
   "cell_type": "code",
   "execution_count": 19,
   "metadata": {},
   "outputs": [
    {
     "name": "stdout",
     "output_type": "stream",
     "text": [
      "Tahona Bar: (619) 255-2090\n",
      "STP Bar-N-Grill: (858) 430-6911\n",
      "Side Bar Lounge: (619) 696-0946\n",
      "The Aero Club Bar: (619) 297-7211\n",
      "Rendezvous: \n",
      "Noble Experiment: (619) 888-4713\n",
      "Raised By Wolves: (619) 629-0243\n",
      "ALTITUDE Sky Lounge: (619) 446-6086\n",
      "TBS Tavern: (619) 359-4198\n",
      "Prohibition: (619) 501-1919\n",
      "False Idol: \n",
      "Ad Libitum: (619) 487-0361\n",
      "Trailer Park After Dark: (619) 236-1550\n",
      "Hoppy Daze Tap House: \n",
      "Common Theory Public House: (858) 384-7974\n",
      "The Hole in the Wall: (619) 996-9000\n",
      "The Watering Hole: (858) 565-0807\n",
      "The Loft: (619) 296-6407\n",
      "Vistal: \n",
      "Born & Raised: (619) 202-4577\n"
     ]
    }
   ],
   "source": [
    "for business in data['businesses']:\n",
    "    print(f\"{business['name']}: {business['display_phone']}\")"
   ]
  },
  {
   "cell_type": "code",
   "execution_count": 38,
   "metadata": {},
   "outputs": [],
   "source": [
    "tahona_id = 'lqTbsbZTD0HrlMe-PvxdJA'\n",
    "reviews_url = f'https://api.yelp.com/v3/businesses/{tahona_id}/reviews'"
   ]
  },
  {
   "cell_type": "code",
   "execution_count": 40,
   "metadata": {},
   "outputs": [],
   "source": [
    "rev_res = requests.get(reviews_url, headers=headers)"
   ]
  },
  {
   "cell_type": "code",
   "execution_count": 41,
   "metadata": {},
   "outputs": [],
   "source": [
    "rev_data = rev_res.json()"
   ]
  },
  {
   "cell_type": "code",
   "execution_count": 43,
   "metadata": {},
   "outputs": [
    {
     "data": {
      "text/plain": [
       "{'id': 'UcLSsqjreQpGzEHfxOwfcA',\n",
       " 'url': 'https://www.yelp.com/biz/tahona-bar-san-diego?hrid=UcLSsqjreQpGzEHfxOwfcA&adjust_creative=GRn4l1YchR2ts9_U-xtjWw&utm_campaign=yelp_api_v3&utm_medium=api_v3_business_reviews&utm_source=GRn4l1YchR2ts9_U-xtjWw',\n",
       " 'text': 'Amazing place !!! I came for \"\\xa0a drink\\xa0\" and I ended up staying for dinner and churros.\\nThe vibe is unique, the decor is authentic and you really feel like...',\n",
       " 'rating': 5,\n",
       " 'time_created': '2018-11-30 17:02:51',\n",
       " 'user': {'id': 'wVEmvtngeRu3jOIc1xRXlg',\n",
       "  'profile_url': 'https://www.yelp.com/user_details?userid=wVEmvtngeRu3jOIc1xRXlg',\n",
       "  'image_url': 'https://s3-media2.fl.yelpcdn.com/photo/WjgOkfmk59vWHQ8ShSXuJA/o.jpg',\n",
       "  'name': 'Othman J.'}}"
      ]
     },
     "execution_count": 43,
     "metadata": {},
     "output_type": "execute_result"
    }
   ],
   "source": [
    "rev_data['reviews'][0]"
   ]
  }
 ],
 "metadata": {
  "kernelspec": {
   "display_name": "NLP",
   "language": "python",
   "name": "nlp"
  },
  "language_info": {
   "codemirror_mode": {
    "name": "ipython",
    "version": 3
   },
   "file_extension": ".py",
   "mimetype": "text/x-python",
   "name": "python",
   "nbconvert_exporter": "python",
   "pygments_lexer": "ipython3",
   "version": "3.6.6"
  }
 },
 "nbformat": 4,
 "nbformat_minor": 2
}
