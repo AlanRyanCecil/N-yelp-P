{
 "cells": [
  {
   "cell_type": "code",
   "execution_count": 4,
   "metadata": {},
   "outputs": [],
   "source": [
    "import requests\n",
    "import os\n",
    "import json\n",
    "import pandas as pd"
   ]
  },
  {
   "cell_type": "code",
   "execution_count": 5,
   "metadata": {},
   "outputs": [],
   "source": [
    "from yelp_config import api_key"
   ]
  },
  {
   "cell_type": "code",
   "execution_count": 6,
   "metadata": {},
   "outputs": [],
   "source": [
    "raw = pd.read_csv('../data/yelp_academic_dataset_review.csv')"
   ]
  },
  {
   "cell_type": "code",
   "execution_count": 7,
   "metadata": {},
   "outputs": [],
   "source": [
    "raw = raw.dropna(how='any')"
   ]
  },
  {
   "cell_type": "code",
   "execution_count": 8,
   "metadata": {},
   "outputs": [
    {
     "data": {
      "text/html": [
       "<div>\n",
       "<style scoped>\n",
       "    .dataframe tbody tr th:only-of-type {\n",
       "        vertical-align: middle;\n",
       "    }\n",
       "\n",
       "    .dataframe tbody tr th {\n",
       "        vertical-align: top;\n",
       "    }\n",
       "\n",
       "    .dataframe thead th {\n",
       "        text-align: right;\n",
       "    }\n",
       "</style>\n",
       "<table border=\"1\" class=\"dataframe\">\n",
       "  <thead>\n",
       "    <tr style=\"text-align: right;\">\n",
       "      <th></th>\n",
       "      <th>business_id</th>\n",
       "      <th>cool</th>\n",
       "      <th>date</th>\n",
       "      <th>funny</th>\n",
       "      <th>review_id</th>\n",
       "      <th>stars</th>\n",
       "      <th>text</th>\n",
       "      <th>useful</th>\n",
       "      <th>user_id</th>\n",
       "    </tr>\n",
       "  </thead>\n",
       "  <tbody>\n",
       "    <tr>\n",
       "      <th>0</th>\n",
       "      <td>iCQpiavjjPzJ5_3gPD5Ebg</td>\n",
       "      <td>0</td>\n",
       "      <td>2011-02-25</td>\n",
       "      <td>0.0</td>\n",
       "      <td>x7mDIiDB3jEiPGPHOmDzyw</td>\n",
       "      <td>2.0</td>\n",
       "      <td>The pizza was okay. Not the best I've had. I p...</td>\n",
       "      <td>0.0</td>\n",
       "      <td>msQe1u7Z_XuqjGoqhB0J5g</td>\n",
       "    </tr>\n",
       "    <tr>\n",
       "      <th>1</th>\n",
       "      <td>pomGBqfbxcqPv14c3XH-ZQ</td>\n",
       "      <td>0</td>\n",
       "      <td>2012-11-13</td>\n",
       "      <td>0.0</td>\n",
       "      <td>dDl8zu1vWPdKGihJrwQbpw</td>\n",
       "      <td>5.0</td>\n",
       "      <td>I love this place! My fiance And I go here atl...</td>\n",
       "      <td>0.0</td>\n",
       "      <td>msQe1u7Z_XuqjGoqhB0J5g</td>\n",
       "    </tr>\n",
       "    <tr>\n",
       "      <th>2</th>\n",
       "      <td>jtQARsP6P-LbkyjbO1qNGg</td>\n",
       "      <td>1</td>\n",
       "      <td>2014-10-23</td>\n",
       "      <td>1.0</td>\n",
       "      <td>LZp4UX5zK3e-c5ZGSeo3kA</td>\n",
       "      <td>1.0</td>\n",
       "      <td>Terrible. Dry corn bread. Rib tips were all fa...</td>\n",
       "      <td>3.0</td>\n",
       "      <td>msQe1u7Z_XuqjGoqhB0J5g</td>\n",
       "    </tr>\n",
       "    <tr>\n",
       "      <th>3</th>\n",
       "      <td>elqbBhBfElMNSrjFqW3now</td>\n",
       "      <td>0</td>\n",
       "      <td>2011-02-25</td>\n",
       "      <td>0.0</td>\n",
       "      <td>Er4NBWCmCD4nM8_p1GRdow</td>\n",
       "      <td>2.0</td>\n",
       "      <td>Back in 2005-2007 this place was my FAVORITE t...</td>\n",
       "      <td>2.0</td>\n",
       "      <td>msQe1u7Z_XuqjGoqhB0J5g</td>\n",
       "    </tr>\n",
       "    <tr>\n",
       "      <th>4</th>\n",
       "      <td>Ums3gaP2qM3W1XcA5r6SsQ</td>\n",
       "      <td>0</td>\n",
       "      <td>2014-09-05</td>\n",
       "      <td>0.0</td>\n",
       "      <td>jsDu6QEJHbwP2Blom1PLCA</td>\n",
       "      <td>5.0</td>\n",
       "      <td>Delicious healthy food. The steak is amazing. ...</td>\n",
       "      <td>0.0</td>\n",
       "      <td>msQe1u7Z_XuqjGoqhB0J5g</td>\n",
       "    </tr>\n",
       "  </tbody>\n",
       "</table>\n",
       "</div>"
      ],
      "text/plain": [
       "              business_id  cool        date  funny               review_id  \\\n",
       "0  iCQpiavjjPzJ5_3gPD5Ebg     0  2011-02-25    0.0  x7mDIiDB3jEiPGPHOmDzyw   \n",
       "1  pomGBqfbxcqPv14c3XH-ZQ     0  2012-11-13    0.0  dDl8zu1vWPdKGihJrwQbpw   \n",
       "2  jtQARsP6P-LbkyjbO1qNGg     1  2014-10-23    1.0  LZp4UX5zK3e-c5ZGSeo3kA   \n",
       "3  elqbBhBfElMNSrjFqW3now     0  2011-02-25    0.0  Er4NBWCmCD4nM8_p1GRdow   \n",
       "4  Ums3gaP2qM3W1XcA5r6SsQ     0  2014-09-05    0.0  jsDu6QEJHbwP2Blom1PLCA   \n",
       "\n",
       "   stars                                               text  useful  \\\n",
       "0    2.0  The pizza was okay. Not the best I've had. I p...     0.0   \n",
       "1    5.0  I love this place! My fiance And I go here atl...     0.0   \n",
       "2    1.0  Terrible. Dry corn bread. Rib tips were all fa...     3.0   \n",
       "3    2.0  Back in 2005-2007 this place was my FAVORITE t...     2.0   \n",
       "4    5.0  Delicious healthy food. The steak is amazing. ...     0.0   \n",
       "\n",
       "                  user_id  \n",
       "0  msQe1u7Z_XuqjGoqhB0J5g  \n",
       "1  msQe1u7Z_XuqjGoqhB0J5g  \n",
       "2  msQe1u7Z_XuqjGoqhB0J5g  \n",
       "3  msQe1u7Z_XuqjGoqhB0J5g  \n",
       "4  msQe1u7Z_XuqjGoqhB0J5g  "
      ]
     },
     "execution_count": 8,
     "metadata": {},
     "output_type": "execute_result"
    }
   ],
   "source": [
    "raw.head()"
   ]
  },
  {
   "cell_type": "code",
   "execution_count": 9,
   "metadata": {},
   "outputs": [],
   "source": [
    "busgroup = raw.groupby('business_id').count()"
   ]
  },
  {
   "cell_type": "code",
   "execution_count": 10,
   "metadata": {},
   "outputs": [],
   "source": [
    "busgroup = busgroup.sort_values('text', ascending=False)"
   ]
  },
  {
   "cell_type": "code",
   "execution_count": 11,
   "metadata": {},
   "outputs": [
    {
     "data": {
      "text/html": [
       "<div>\n",
       "<style scoped>\n",
       "    .dataframe tbody tr th:only-of-type {\n",
       "        vertical-align: middle;\n",
       "    }\n",
       "\n",
       "    .dataframe tbody tr th {\n",
       "        vertical-align: top;\n",
       "    }\n",
       "\n",
       "    .dataframe thead th {\n",
       "        text-align: right;\n",
       "    }\n",
       "</style>\n",
       "<table border=\"1\" class=\"dataframe\">\n",
       "  <thead>\n",
       "    <tr style=\"text-align: right;\">\n",
       "      <th></th>\n",
       "      <th>cool</th>\n",
       "      <th>date</th>\n",
       "      <th>funny</th>\n",
       "      <th>review_id</th>\n",
       "      <th>stars</th>\n",
       "      <th>text</th>\n",
       "      <th>useful</th>\n",
       "      <th>user_id</th>\n",
       "    </tr>\n",
       "    <tr>\n",
       "      <th>business_id</th>\n",
       "      <th></th>\n",
       "      <th></th>\n",
       "      <th></th>\n",
       "      <th></th>\n",
       "      <th></th>\n",
       "      <th></th>\n",
       "      <th></th>\n",
       "      <th></th>\n",
       "    </tr>\n",
       "  </thead>\n",
       "  <tbody>\n",
       "    <tr>\n",
       "      <th>4JNXUYY8wbaaDmk3BPzlWw</th>\n",
       "      <td>7968</td>\n",
       "      <td>7968</td>\n",
       "      <td>7968</td>\n",
       "      <td>7968</td>\n",
       "      <td>7968</td>\n",
       "      <td>7968</td>\n",
       "      <td>7968</td>\n",
       "      <td>7968</td>\n",
       "    </tr>\n",
       "    <tr>\n",
       "      <th>RESDUcs7fIiihp38-d6_6g</th>\n",
       "      <td>7861</td>\n",
       "      <td>7861</td>\n",
       "      <td>7861</td>\n",
       "      <td>7861</td>\n",
       "      <td>7861</td>\n",
       "      <td>7861</td>\n",
       "      <td>7861</td>\n",
       "      <td>7861</td>\n",
       "    </tr>\n",
       "    <tr>\n",
       "      <th>K7lWdNUhCbcnEvI0NhGewg</th>\n",
       "      <td>6447</td>\n",
       "      <td>6447</td>\n",
       "      <td>6447</td>\n",
       "      <td>6447</td>\n",
       "      <td>6447</td>\n",
       "      <td>6447</td>\n",
       "      <td>6447</td>\n",
       "      <td>6447</td>\n",
       "    </tr>\n",
       "    <tr>\n",
       "      <th>cYwJA2A6I12KNkm2rtXd5g</th>\n",
       "      <td>5472</td>\n",
       "      <td>5472</td>\n",
       "      <td>5472</td>\n",
       "      <td>5472</td>\n",
       "      <td>5472</td>\n",
       "      <td>5472</td>\n",
       "      <td>5472</td>\n",
       "      <td>5472</td>\n",
       "    </tr>\n",
       "    <tr>\n",
       "      <th>f4x1YBxkLrZg652xt2KR5g</th>\n",
       "      <td>5382</td>\n",
       "      <td>5382</td>\n",
       "      <td>5382</td>\n",
       "      <td>5382</td>\n",
       "      <td>5382</td>\n",
       "      <td>5382</td>\n",
       "      <td>5382</td>\n",
       "      <td>5382</td>\n",
       "    </tr>\n",
       "  </tbody>\n",
       "</table>\n",
       "</div>"
      ],
      "text/plain": [
       "                        cool  date  funny  review_id  stars  text  useful  \\\n",
       "business_id                                                                 \n",
       "4JNXUYY8wbaaDmk3BPzlWw  7968  7968   7968       7968   7968  7968    7968   \n",
       "RESDUcs7fIiihp38-d6_6g  7861  7861   7861       7861   7861  7861    7861   \n",
       "K7lWdNUhCbcnEvI0NhGewg  6447  6447   6447       6447   6447  6447    6447   \n",
       "cYwJA2A6I12KNkm2rtXd5g  5472  5472   5472       5472   5472  5472    5472   \n",
       "f4x1YBxkLrZg652xt2KR5g  5382  5382   5382       5382   5382  5382    5382   \n",
       "\n",
       "                        user_id  \n",
       "business_id                      \n",
       "4JNXUYY8wbaaDmk3BPzlWw     7968  \n",
       "RESDUcs7fIiihp38-d6_6g     7861  \n",
       "K7lWdNUhCbcnEvI0NhGewg     6447  \n",
       "cYwJA2A6I12KNkm2rtXd5g     5472  \n",
       "f4x1YBxkLrZg652xt2KR5g     5382  "
      ]
     },
     "execution_count": 11,
     "metadata": {},
     "output_type": "execute_result"
    }
   ],
   "source": [
    "busgroup.head()"
   ]
  },
  {
   "cell_type": "code",
   "execution_count": 12,
   "metadata": {},
   "outputs": [
    {
     "data": {
      "text/html": [
       "<div>\n",
       "<style scoped>\n",
       "    .dataframe tbody tr th:only-of-type {\n",
       "        vertical-align: middle;\n",
       "    }\n",
       "\n",
       "    .dataframe tbody tr th {\n",
       "        vertical-align: top;\n",
       "    }\n",
       "\n",
       "    .dataframe thead th {\n",
       "        text-align: right;\n",
       "    }\n",
       "</style>\n",
       "<table border=\"1\" class=\"dataframe\">\n",
       "  <thead>\n",
       "    <tr style=\"text-align: right;\">\n",
       "      <th></th>\n",
       "      <th>review_count</th>\n",
       "    </tr>\n",
       "    <tr>\n",
       "      <th>business_id</th>\n",
       "      <th></th>\n",
       "    </tr>\n",
       "  </thead>\n",
       "  <tbody>\n",
       "    <tr>\n",
       "      <th>4JNXUYY8wbaaDmk3BPzlWw</th>\n",
       "      <td>7968</td>\n",
       "    </tr>\n",
       "    <tr>\n",
       "      <th>RESDUcs7fIiihp38-d6_6g</th>\n",
       "      <td>7861</td>\n",
       "    </tr>\n",
       "    <tr>\n",
       "      <th>K7lWdNUhCbcnEvI0NhGewg</th>\n",
       "      <td>6447</td>\n",
       "    </tr>\n",
       "    <tr>\n",
       "      <th>cYwJA2A6I12KNkm2rtXd5g</th>\n",
       "      <td>5472</td>\n",
       "    </tr>\n",
       "    <tr>\n",
       "      <th>f4x1YBxkLrZg652xt2KR5g</th>\n",
       "      <td>5382</td>\n",
       "    </tr>\n",
       "    <tr>\n",
       "      <th>DkYS3arLOhA8si5uUEmHOw</th>\n",
       "      <td>4981</td>\n",
       "    </tr>\n",
       "    <tr>\n",
       "      <th>2weQS-RnoOBhb1KsHKyoSQ</th>\n",
       "      <td>4240</td>\n",
       "    </tr>\n",
       "    <tr>\n",
       "      <th>5LNZ67Yw9RD6nf4_UhXOjw</th>\n",
       "      <td>4097</td>\n",
       "    </tr>\n",
       "    <tr>\n",
       "      <th>ujHiaprwCQ5ewziu0Vi9rw</th>\n",
       "      <td>4089</td>\n",
       "    </tr>\n",
       "    <tr>\n",
       "      <th>iCQpiavjjPzJ5_3gPD5Ebg</th>\n",
       "      <td>4078</td>\n",
       "    </tr>\n",
       "    <tr>\n",
       "      <th>SMPbvZLSMMb7KU76YNYMGg</th>\n",
       "      <td>4041</td>\n",
       "    </tr>\n",
       "    <tr>\n",
       "      <th>KskYqH1Bi7Z_61pH6Om8pg</th>\n",
       "      <td>3976</td>\n",
       "    </tr>\n",
       "    <tr>\n",
       "      <th>eoHdUeQDNgQ6WYEnP2aiRw</th>\n",
       "      <td>3906</td>\n",
       "    </tr>\n",
       "    <tr>\n",
       "      <th>AV6weBrZFFBfRGCbcRGO4g</th>\n",
       "      <td>3891</td>\n",
       "    </tr>\n",
       "    <tr>\n",
       "      <th>rcaPajgKOJC2vo_l3xa42A</th>\n",
       "      <td>3742</td>\n",
       "    </tr>\n",
       "    <tr>\n",
       "      <th>hihud--QRriCYZw1zZvW4g</th>\n",
       "      <td>3733</td>\n",
       "    </tr>\n",
       "    <tr>\n",
       "      <th>El4FC8jcawUVgw_0EIcbaQ</th>\n",
       "      <td>3731</td>\n",
       "    </tr>\n",
       "    <tr>\n",
       "      <th>FaHADZARwnY4yvlvpnsfGA</th>\n",
       "      <td>3484</td>\n",
       "    </tr>\n",
       "    <tr>\n",
       "      <th>Wxxvi3LZbHNIDwJ-ZimtnA</th>\n",
       "      <td>3330</td>\n",
       "    </tr>\n",
       "    <tr>\n",
       "      <th>7sPNbCx7vGAaH7SbNPZ6oA</th>\n",
       "      <td>3249</td>\n",
       "    </tr>\n",
       "    <tr>\n",
       "      <th>OETh78qcgDltvHULowwhJg</th>\n",
       "      <td>3245</td>\n",
       "    </tr>\n",
       "  </tbody>\n",
       "</table>\n",
       "</div>"
      ],
      "text/plain": [
       "                        review_count\n",
       "business_id                         \n",
       "4JNXUYY8wbaaDmk3BPzlWw          7968\n",
       "RESDUcs7fIiihp38-d6_6g          7861\n",
       "K7lWdNUhCbcnEvI0NhGewg          6447\n",
       "cYwJA2A6I12KNkm2rtXd5g          5472\n",
       "f4x1YBxkLrZg652xt2KR5g          5382\n",
       "DkYS3arLOhA8si5uUEmHOw          4981\n",
       "2weQS-RnoOBhb1KsHKyoSQ          4240\n",
       "5LNZ67Yw9RD6nf4_UhXOjw          4097\n",
       "ujHiaprwCQ5ewziu0Vi9rw          4089\n",
       "iCQpiavjjPzJ5_3gPD5Ebg          4078\n",
       "SMPbvZLSMMb7KU76YNYMGg          4041\n",
       "KskYqH1Bi7Z_61pH6Om8pg          3976\n",
       "eoHdUeQDNgQ6WYEnP2aiRw          3906\n",
       "AV6weBrZFFBfRGCbcRGO4g          3891\n",
       "rcaPajgKOJC2vo_l3xa42A          3742\n",
       "hihud--QRriCYZw1zZvW4g          3733\n",
       "El4FC8jcawUVgw_0EIcbaQ          3731\n",
       "FaHADZARwnY4yvlvpnsfGA          3484\n",
       "Wxxvi3LZbHNIDwJ-ZimtnA          3330\n",
       "7sPNbCx7vGAaH7SbNPZ6oA          3249\n",
       "OETh78qcgDltvHULowwhJg          3245"
      ]
     },
     "execution_count": 12,
     "metadata": {},
     "output_type": "execute_result"
    }
   ],
   "source": [
    "top_businesses = busgroup[['text']][:21]\n",
    "top_businesses = top_businesses.rename(columns={'text': 'review_count'})\n",
    "top_businesses"
   ]
  },
  {
   "cell_type": "code",
   "execution_count": 13,
   "metadata": {},
   "outputs": [],
   "source": [
    "headers = {'Authorization': f'bearer {api_key}'}\n",
    "bus_url = lambda bid: f'https://api.yelp.com/v3/businesses/{bid}'\n",
    "\n",
    "top_21_business_id_data = []\n",
    "biddatapath = '../cleaned_data/top_21_business_id_data.json'\n",
    "if os.path.exists(biddatapath):\n",
    "    top_21_business_id_data = json.load(open(biddatapath))\n",
    "else:\n",
    "    top_21_business_id_data = []\n",
    "    for bid in top_businesses.index:\n",
    "        res = requests.get(bus_url(bid), headers=headers).json()\n",
    "        top_21_business_id_data.append(res)\n",
    "    with open(biddatapath, 'w') as writefile:\n",
    "            json.dump(top_21_business_id_data, writefile)"
   ]
  },
  {
   "cell_type": "code",
   "execution_count": 15,
   "metadata": {},
   "outputs": [
    {
     "data": {
      "text/plain": [
       "{'id': '4JNXUYY8wbaaDmk3BPzlWw',\n",
       " 'alias': 'mon-ami-gabi-las-vegas-2',\n",
       " 'name': 'Mon Ami Gabi',\n",
       " 'image_url': 'https://s3-media3.fl.yelpcdn.com/bphoto/infUdLdU8Lm-OPaopoadRg/o.jpg',\n",
       " 'is_claimed': True,\n",
       " 'is_closed': False,\n",
       " 'url': 'https://www.yelp.com/biz/mon-ami-gabi-las-vegas-2?adjust_creative=GRn4l1YchR2ts9_U-xtjWw&utm_campaign=yelp_api_v3&utm_medium=api_v3_business_lookup&utm_source=GRn4l1YchR2ts9_U-xtjWw',\n",
       " 'phone': '+17029444224',\n",
       " 'display_phone': '(702) 944-4224',\n",
       " 'review_count': 8439,\n",
       " 'categories': [{'alias': 'french', 'title': 'French'},\n",
       "  {'alias': 'steak', 'title': 'Steakhouses'},\n",
       "  {'alias': 'breakfast_brunch', 'title': 'Breakfast & Brunch'}],\n",
       " 'rating': 4.0,\n",
       " 'location': {'address1': '3655 Las Vegas Blvd S',\n",
       "  'address2': '',\n",
       "  'address3': '',\n",
       "  'city': 'Las Vegas',\n",
       "  'zip_code': '89109',\n",
       "  'country': 'US',\n",
       "  'state': 'NV',\n",
       "  'display_address': ['3655 Las Vegas Blvd S', 'Las Vegas, NV 89109'],\n",
       "  'cross_streets': ''},\n",
       " 'coordinates': {'latitude': 36.112859, 'longitude': -115.172434},\n",
       " 'photos': ['https://s3-media3.fl.yelpcdn.com/bphoto/infUdLdU8Lm-OPaopoadRg/o.jpg',\n",
       "  'https://s3-media2.fl.yelpcdn.com/bphoto/Jb3XNYL4v33GNrTRAUEj5Q/o.jpg',\n",
       "  'https://s3-media2.fl.yelpcdn.com/bphoto/QxgWgBqiyx7LAfHyblZkKg/o.jpg'],\n",
       " 'price': '$$',\n",
       " 'hours': [{'open': [{'is_overnight': False,\n",
       "     'start': '0700',\n",
       "     'end': '2300',\n",
       "     'day': 0},\n",
       "    {'is_overnight': False, 'start': '0700', 'end': '2300', 'day': 1},\n",
       "    {'is_overnight': False, 'start': '0700', 'end': '2300', 'day': 2},\n",
       "    {'is_overnight': False, 'start': '0700', 'end': '2300', 'day': 3},\n",
       "    {'is_overnight': False, 'start': '0700', 'end': '0000', 'day': 4},\n",
       "    {'is_overnight': False, 'start': '0700', 'end': '0000', 'day': 5},\n",
       "    {'is_overnight': False, 'start': '0700', 'end': '2300', 'day': 6}],\n",
       "   'hours_type': 'REGULAR',\n",
       "   'is_open_now': False}],\n",
       " 'transactions': []}"
      ]
     },
     "execution_count": 15,
     "metadata": {},
     "output_type": "execute_result"
    }
   ],
   "source": [
    "top_21_business_id_data[0]"
   ]
  },
  {
   "cell_type": "code",
   "execution_count": 11,
   "metadata": {},
   "outputs": [],
   "source": [
    "jsonpath = '../data/top_21_businesses.json'\n",
    "if os.path.exists(jsonpath):\n",
    "    top_business_json = json.load(open(jsonpath))\n",
    "else:\n",
    "    top_business_json = []\n",
    "    for bid, text in top_businesses.iterrows():\n",
    "        response = requests.get(bus_url(bid), headers=headers).json()\n",
    "        top_business_json.append(response)\n",
    "        with open(jsonpath, 'w') as writefile:\n",
    "            json.dump(top_business_json, writefile)"
   ]
  },
  {
   "cell_type": "code",
   "execution_count": 40,
   "metadata": {},
   "outputs": [
    {
     "data": {
      "text/plain": [
       "['alias',\n",
       " 'categories',\n",
       " 'coordinates',\n",
       " 'display_phone',\n",
       " 'hours',\n",
       " 'business_id',\n",
       " 'image_url',\n",
       " 'is_claimed',\n",
       " 'is_closed',\n",
       " 'location',\n",
       " 'name',\n",
       " 'phone',\n",
       " 'photos',\n",
       " 'price',\n",
       " 'rating',\n",
       " 'review_count',\n",
       " 'transactions',\n",
       " 'url']"
      ]
     },
     "execution_count": 40,
     "metadata": {},
     "output_type": "execute_result"
    }
   ],
   "source": [
    "top_data_df = pd.DataFrame(top_business_json)\n",
    "top_data_df.rename(columns={'id': 'business_id'}, inplace=True)\n",
    "[col for col in top_data_df]"
   ]
  },
  {
   "cell_type": "code",
   "execution_count": 41,
   "metadata": {},
   "outputs": [],
   "source": [
    "top_data_df = top_data_df[['business_id', 'name', 'price', 'rating', 'categories',]]"
   ]
  },
  {
   "cell_type": "code",
   "execution_count": 42,
   "metadata": {},
   "outputs": [],
   "source": [
    "top_data_df['categories'] = top_data_df['categories'].map(lambda x: [y['title'] for y in x])"
   ]
  },
  {
   "cell_type": "code",
   "execution_count": 43,
   "metadata": {},
   "outputs": [],
   "source": [
    "top_data_df = top_data_df.join(top_businesses, on='business_id')"
   ]
  },
  {
   "cell_type": "code",
   "execution_count": 44,
   "metadata": {},
   "outputs": [
    {
     "data": {
      "text/html": [
       "<div>\n",
       "<style scoped>\n",
       "    .dataframe tbody tr th:only-of-type {\n",
       "        vertical-align: middle;\n",
       "    }\n",
       "\n",
       "    .dataframe tbody tr th {\n",
       "        vertical-align: top;\n",
       "    }\n",
       "\n",
       "    .dataframe thead th {\n",
       "        text-align: right;\n",
       "    }\n",
       "</style>\n",
       "<table border=\"1\" class=\"dataframe\">\n",
       "  <thead>\n",
       "    <tr style=\"text-align: right;\">\n",
       "      <th></th>\n",
       "      <th>business_id</th>\n",
       "      <th>name</th>\n",
       "      <th>price</th>\n",
       "      <th>rating</th>\n",
       "      <th>categories</th>\n",
       "      <th>review_count</th>\n",
       "    </tr>\n",
       "  </thead>\n",
       "  <tbody>\n",
       "    <tr>\n",
       "      <th>0</th>\n",
       "      <td>4JNXUYY8wbaaDmk3BPzlWw</td>\n",
       "      <td>Mon Ami Gabi</td>\n",
       "      <td>$$</td>\n",
       "      <td>4.0</td>\n",
       "      <td>[French, Steakhouses, Breakfast &amp; Brunch]</td>\n",
       "      <td>7968</td>\n",
       "    </tr>\n",
       "    <tr>\n",
       "      <th>1</th>\n",
       "      <td>RESDUcs7fIiihp38-d6_6g</td>\n",
       "      <td>Bacchanal Buffet</td>\n",
       "      <td>$$$</td>\n",
       "      <td>4.0</td>\n",
       "      <td>[Buffets]</td>\n",
       "      <td>7861</td>\n",
       "    </tr>\n",
       "    <tr>\n",
       "      <th>2</th>\n",
       "      <td>K7lWdNUhCbcnEvI0NhGewg</td>\n",
       "      <td>Wicked Spoon</td>\n",
       "      <td>$$$</td>\n",
       "      <td>3.5</td>\n",
       "      <td>[Buffets, Breakfast &amp; Brunch]</td>\n",
       "      <td>6447</td>\n",
       "    </tr>\n",
       "    <tr>\n",
       "      <th>3</th>\n",
       "      <td>cYwJA2A6I12KNkm2rtXd5g</td>\n",
       "      <td>Gordon Ramsay BurGR</td>\n",
       "      <td>$$</td>\n",
       "      <td>4.0</td>\n",
       "      <td>[Burgers, American (Traditional)]</td>\n",
       "      <td>5472</td>\n",
       "    </tr>\n",
       "    <tr>\n",
       "      <th>4</th>\n",
       "      <td>f4x1YBxkLrZg652xt2KR5g</td>\n",
       "      <td>Hash House A Go Go</td>\n",
       "      <td>$$</td>\n",
       "      <td>4.0</td>\n",
       "      <td>[American (New), Breakfast &amp; Brunch]</td>\n",
       "      <td>5382</td>\n",
       "    </tr>\n",
       "  </tbody>\n",
       "</table>\n",
       "</div>"
      ],
      "text/plain": [
       "              business_id                 name price  rating  \\\n",
       "0  4JNXUYY8wbaaDmk3BPzlWw         Mon Ami Gabi    $$     4.0   \n",
       "1  RESDUcs7fIiihp38-d6_6g     Bacchanal Buffet   $$$     4.0   \n",
       "2  K7lWdNUhCbcnEvI0NhGewg         Wicked Spoon   $$$     3.5   \n",
       "3  cYwJA2A6I12KNkm2rtXd5g  Gordon Ramsay BurGR    $$     4.0   \n",
       "4  f4x1YBxkLrZg652xt2KR5g   Hash House A Go Go    $$     4.0   \n",
       "\n",
       "                                  categories  review_count  \n",
       "0  [French, Steakhouses, Breakfast & Brunch]          7968  \n",
       "1                                  [Buffets]          7861  \n",
       "2              [Buffets, Breakfast & Brunch]          6447  \n",
       "3          [Burgers, American (Traditional)]          5472  \n",
       "4       [American (New), Breakfast & Brunch]          5382  "
      ]
     },
     "execution_count": 44,
     "metadata": {},
     "output_type": "execute_result"
    }
   ],
   "source": [
    "top_data_df.head()"
   ]
  },
  {
   "cell_type": "code",
   "execution_count": 45,
   "metadata": {},
   "outputs": [],
   "source": [
    "all_data_top_df = raw.loc[raw['business_id'].isin(top_data_df['business_id'])]"
   ]
  },
  {
   "cell_type": "code",
   "execution_count": 46,
   "metadata": {},
   "outputs": [],
   "source": [
    "with_names_df = all_data_top_df.merge(top_data_df, on='business_id')"
   ]
  },
  {
   "cell_type": "code",
   "execution_count": 47,
   "metadata": {},
   "outputs": [
    {
     "data": {
      "text/plain": [
       "business_id     94943\n",
       "cool            94943\n",
       "date            94943\n",
       "funny           94943\n",
       "review_id       94943\n",
       "stars           94943\n",
       "text            94943\n",
       "useful          94943\n",
       "user_id         94943\n",
       "name            94943\n",
       "price           91459\n",
       "rating          94943\n",
       "categories      94943\n",
       "review_count    94943\n",
       "dtype: int64"
      ]
     },
     "execution_count": 47,
     "metadata": {},
     "output_type": "execute_result"
    }
   ],
   "source": [
    "with_names_df.count()"
   ]
  },
  {
   "cell_type": "code",
   "execution_count": 48,
   "metadata": {},
   "outputs": [],
   "source": [
    "with_names_df.dropna(inplace=True)"
   ]
  },
  {
   "cell_type": "code",
   "execution_count": 49,
   "metadata": {},
   "outputs": [
    {
     "data": {
      "text/plain": [
       "business_id     91459\n",
       "cool            91459\n",
       "date            91459\n",
       "funny           91459\n",
       "review_id       91459\n",
       "stars           91459\n",
       "text            91459\n",
       "useful          91459\n",
       "user_id         91459\n",
       "name            91459\n",
       "price           91459\n",
       "rating          91459\n",
       "categories      91459\n",
       "review_count    91459\n",
       "dtype: int64"
      ]
     },
     "execution_count": 49,
     "metadata": {},
     "output_type": "execute_result"
    }
   ],
   "source": [
    "with_names_df.count()"
   ]
  },
  {
   "cell_type": "code",
   "execution_count": 50,
   "metadata": {},
   "outputs": [],
   "source": [
    "with_names_df.to_csv('../data/top_21_businesses_pre_vader.csv', index=False, sep='\\t')"
   ]
  },
  {
   "cell_type": "code",
   "execution_count": 51,
   "metadata": {},
   "outputs": [
    {
     "data": {
      "text/plain": [
       "['business_id',\n",
       " 'cool',\n",
       " 'date',\n",
       " 'funny',\n",
       " 'review_id',\n",
       " 'stars',\n",
       " 'text',\n",
       " 'useful',\n",
       " 'user_id',\n",
       " 'name',\n",
       " 'price',\n",
       " 'rating',\n",
       " 'categories',\n",
       " 'review_count']"
      ]
     },
     "execution_count": 51,
     "metadata": {},
     "output_type": "execute_result"
    }
   ],
   "source": [
    "[col for col in with_names_df]"
   ]
  }
 ],
 "metadata": {
  "kernelspec": {
   "display_name": "NLP",
   "language": "python",
   "name": "nlp"
  },
  "language_info": {
   "codemirror_mode": {
    "name": "ipython",
    "version": 3
   },
   "file_extension": ".py",
   "mimetype": "text/x-python",
   "name": "python",
   "nbconvert_exporter": "python",
   "pygments_lexer": "ipython3",
   "version": "3.6.6"
  }
 },
 "nbformat": 4,
 "nbformat_minor": 2
}
