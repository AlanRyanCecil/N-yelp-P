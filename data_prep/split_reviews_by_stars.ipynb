{
 "cells": [
  {
   "cell_type": "markdown",
   "metadata": {},
   "source": [
    "## Creates a text file for each star "
   ]
  },
  {
   "cell_type": "code",
   "execution_count": 1,
   "metadata": {},
   "outputs": [],
   "source": [
    "import json"
   ]
  },
  {
   "cell_type": "code",
   "execution_count": 2,
   "metadata": {},
   "outputs": [],
   "source": [
    "base_path = '../data/reviews_by_stars/'\n",
    "one_star = open(base_path + 'one_star_reviews.txt', 'w')\n",
    "two_star = open(base_path + 'two_star_reviews.txt', 'w')\n",
    "three_star = open(base_path + 'three_star_reviews.txt', 'w')\n",
    "four_star = open(base_path + 'four_star_reviews.txt', 'w')\n",
    "five_star = open(base_path + 'five_star_reviews.txt', 'w')\n",
    "write_files = [one_star, two_star, three_star, four_star, five_star,]"
   ]
  },
  {
   "cell_type": "code",
   "execution_count": 3,
   "metadata": {},
   "outputs": [],
   "source": [
    "with open('../data/yelp_academic_dataset_review.json', 'r') as read_file:\n",
    "    for line in read_file:\n",
    "        review = json.loads(line)\n",
    "        write_files[review['stars'] - 1].write(review['text'])\n",
    "\n",
    "for file in write_files:\n",
    "    file.close()"
   ]
  }
 ],
 "metadata": {
  "kernelspec": {
   "display_name": "NLP",
   "language": "python",
   "name": "nlp"
  },
  "language_info": {
   "codemirror_mode": {
    "name": "ipython",
    "version": 3
   },
   "file_extension": ".py",
   "mimetype": "text/x-python",
   "name": "python",
   "nbconvert_exporter": "python",
   "pygments_lexer": "ipython3",
   "version": "3.6.6"
  }
 },
 "nbformat": 4,
 "nbformat_minor": 2
}
