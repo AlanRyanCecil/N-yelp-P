{
 "cells": [
  {
   "cell_type": "code",
   "execution_count": 1,
   "metadata": {},
   "outputs": [],
   "source": [
    "import pandas as pd"
   ]
  },
  {
   "cell_type": "code",
   "execution_count": 2,
   "metadata": {},
   "outputs": [],
   "source": [
    "df = pd.read_csv('../cleaned_data/top_21_businesses.csv', sep='\\t')"
   ]
  },
  {
   "cell_type": "code",
   "execution_count": 42,
   "metadata": {},
   "outputs": [
    {
     "data": {
      "text/plain": [
       "business_id     101\n",
       "cool            101\n",
       "date            101\n",
       "funny           101\n",
       "review_id       101\n",
       "stars           101\n",
       "text            101\n",
       "useful          101\n",
       "user_id         101\n",
       "name            101\n",
       "price           101\n",
       "rating          101\n",
       "categories      101\n",
       "review_count    101\n",
       "vader           101\n",
       "dtype: int64"
      ]
     },
     "execution_count": 42,
     "metadata": {},
     "output_type": "execute_result"
    }
   ],
   "source": [
    "ds = df.loc[:100, :]\n",
    "ds.count()"
   ]
  },
  {
   "cell_type": "code",
   "execution_count": 45,
   "metadata": {},
   "outputs": [
    {
     "data": {
      "text/plain": [
       "['business_id', 'cool']"
      ]
     },
     "execution_count": 45,
     "metadata": {},
     "output_type": "execute_result"
    }
   ],
   "source": [
    "[col for col in ds][:2]"
   ]
  },
  {
   "cell_type": "code",
   "execution_count": 29,
   "metadata": {},
   "outputs": [
    {
     "data": {
      "text/plain": [
       "(0, business_id                                iCQpiavjjPzJ5_3gPD5Ebg\n",
       " cool                                                            0\n",
       " date                                                   2011-02-25\n",
       " funny                                                           0\n",
       " review_id                                  x7mDIiDB3jEiPGPHOmDzyw\n",
       " stars                                                           2\n",
       " text            The pizza was okay. Not the best I've had. I p...\n",
       " useful                                                          0\n",
       " user_id                                    msQe1u7Z_XuqjGoqhB0J5g\n",
       " name                                                 Secret Pizza\n",
       " price                                                           $\n",
       " rating                                                          4\n",
       " categories                                              ['Pizza']\n",
       " review_count                                                 4078\n",
       " vader                                                      0.7038\n",
       " Name: 0, dtype: object)"
      ]
     },
     "execution_count": 29,
     "metadata": {},
     "output_type": "execute_result"
    }
   ],
   "source": [
    "next(ds.iterrows())"
   ]
  }
 ],
 "metadata": {
  "kernelspec": {
   "display_name": "Python 3",
   "language": "python",
   "name": "python3"
  },
  "language_info": {
   "codemirror_mode": {
    "name": "ipython",
    "version": 3
   },
   "file_extension": ".py",
   "mimetype": "text/x-python",
   "name": "python",
   "nbconvert_exporter": "python",
   "pygments_lexer": "ipython3",
   "version": "3.6.6"
  }
 },
 "nbformat": 4,
 "nbformat_minor": 2
}
