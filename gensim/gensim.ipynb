{
 "cells": [
  {
   "cell_type": "code",
   "execution_count": 25,
   "metadata": {},
   "outputs": [],
   "source": [
    "import pandas as pd\n",
    "import spacy\n",
    "import re\n",
    "from gensim.summarization import summarize"
   ]
  },
  {
   "cell_type": "code",
   "execution_count": 5,
   "metadata": {},
   "outputs": [],
   "source": [
    "df = pd.read_csv('../cleaned_data/top_21_businesses.csv', sep='\\t')"
   ]
  },
  {
   "cell_type": "code",
   "execution_count": 68,
   "metadata": {},
   "outputs": [
    {
     "data": {
      "text/plain": [
       "['business_id',\n",
       " 'cool',\n",
       " 'date',\n",
       " 'funny',\n",
       " 'review_id',\n",
       " 'stars',\n",
       " 'text',\n",
       " 'useful',\n",
       " 'user_id',\n",
       " 'name',\n",
       " 'price',\n",
       " 'rating',\n",
       " 'categories',\n",
       " 'review_count',\n",
       " 'vader']"
      ]
     },
     "execution_count": 68,
     "metadata": {},
     "output_type": "execute_result"
    }
   ],
   "source": [
    "[col for col in df]"
   ]
  },
  {
   "cell_type": "code",
   "execution_count": 159,
   "metadata": {},
   "outputs": [],
   "source": [
    "ds = df.loc[df['name'] == 'Wicked Spoon'].sort_values('date', ascending=False)\n",
    "text = ' '.join(ds.loc[ds['stars'] == 1, 'text'][:300])"
   ]
  },
  {
   "cell_type": "code",
   "execution_count": 160,
   "metadata": {},
   "outputs": [
    {
     "data": {
      "text/plain": [
       "192432"
      ]
     },
     "execution_count": 160,
     "metadata": {},
     "output_type": "execute_result"
    }
   ],
   "source": [
    "len(text)"
   ]
  },
  {
   "cell_type": "code",
   "execution_count": 161,
   "metadata": {
    "scrolled": true
   },
   "outputs": [],
   "source": [
    "summary = summarize(text, word_count=300)"
   ]
  },
  {
   "cell_type": "code",
   "execution_count": 162,
   "metadata": {},
   "outputs": [],
   "source": [
    "summary =  re.sub('\\n', ' ', summary)"
   ]
  },
  {
   "cell_type": "code",
   "execution_count": 163,
   "metadata": {},
   "outputs": [],
   "source": [
    "nlp = spacy.load('en_core_web_sm')"
   ]
  },
  {
   "cell_type": "code",
   "execution_count": 164,
   "metadata": {},
   "outputs": [],
   "source": [
    "doc = nlp(summary)"
   ]
  },
  {
   "cell_type": "code",
   "execution_count": 165,
   "metadata": {},
   "outputs": [
    {
     "data": {
      "text/plain": [
       "'It'"
      ]
     },
     "execution_count": 165,
     "metadata": {},
     "output_type": "execute_result"
    }
   ],
   "source": [
    "str(doc[0])"
   ]
  },
  {
   "cell_type": "code",
   "execution_count": 166,
   "metadata": {
    "scrolled": true
   },
   "outputs": [
    {
     "data": {
      "text/plain": [
       "[unfortunate,\n",
       " My,\n",
       " disappointed,\n",
       " bad,\n",
       " that,\n",
       " bad,\n",
       " cheap,\n",
       " Chinese,\n",
       " random,\n",
       " good,\n",
       " better,\n",
       " less,\n",
       " such,\n",
       " much,\n",
       " horrible,\n",
       " angry,\n",
       " terrible,\n",
       " faux,\n",
       " funny,\n",
       " my,\n",
       " extra,\n",
       " its,\n",
       " better,\n",
       " average,\n",
       " most,\n",
       " other,\n",
       " worth,\n",
       " terrible,\n",
       " good,\n",
       " small,\n",
       " great,\n",
       " worth,\n",
       " glad,\n",
       " My,\n",
       " our,\n",
       " last,\n",
       " our]"
      ]
     },
     "execution_count": 166,
     "metadata": {},
     "output_type": "execute_result"
    }
   ],
   "source": [
    "[t for t in doc if t.pos_ == 'ADJ']"
   ]
  },
  {
   "cell_type": "code",
   "execution_count": 167,
   "metadata": {},
   "outputs": [],
   "source": [
    "res = ''\n",
    "for tok in doc:\n",
    "    if tok.pos_ == 'ADJ':\n",
    "        res += ' <button class=\"adj-btn\">' + str(tok) + '</button>'\n",
    "    elif tok.pos_ == 'NOUN':\n",
    "        res += ' <button class=\"noun-btn\">' + str(tok) + '</button>'\n",
    "    else:\n",
    "        ws = '' if tok.pos_ == 'PUNCT' else ' '\n",
    "        res += ws + str(tok)\n",
    "res = res.strip()\n",
    "res\n",
    "with open('../cleaned_data/test_response.txt', 'w') as outfile:\n",
    "    outfile.write(res)"
   ]
  }
 ],
 "metadata": {
  "kernelspec": {
   "display_name": "NLP",
   "language": "python",
   "name": "nlp"
  },
  "language_info": {
   "codemirror_mode": {
    "name": "ipython",
    "version": 3
   },
   "file_extension": ".py",
   "mimetype": "text/x-python",
   "name": "python",
   "nbconvert_exporter": "python",
   "pygments_lexer": "ipython3",
   "version": "3.6.6"
  }
 },
 "nbformat": 4,
 "nbformat_minor": 2
}
